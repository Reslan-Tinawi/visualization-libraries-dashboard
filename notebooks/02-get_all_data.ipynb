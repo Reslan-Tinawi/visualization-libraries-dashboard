{
 "cells": [
  {
   "cell_type": "code",
   "execution_count": 1,
   "source": [
    "import sys\n",
    "\n",
    "import pandas as pd\n",
    "from github import Github\n",
    "\n",
    "sys.path.insert(0, \"../src\")\n",
    "\n",
    "from repo import Repo"
   ],
   "outputs": [],
   "metadata": {
    "execution": {
     "iopub.execute_input": "2021-07-26T12:26:08.522594Z",
     "iopub.status.busy": "2021-07-26T12:26:08.522411Z",
     "iopub.status.idle": "2021-07-26T12:26:08.942961Z",
     "shell.execute_reply": "2021-07-26T12:26:08.942382Z",
     "shell.execute_reply.started": "2021-07-26T12:26:08.522554Z"
    },
    "tags": []
   }
  },
  {
   "cell_type": "code",
   "execution_count": 2,
   "source": [
    "repos_dict = {\n",
    "    \"altair\": \"altair-viz/altair\",\n",
    "    \"bokeh\": \"bokeh/bokeh\",\n",
    "    \"chartify\": \"spotify/chartify\",\n",
    "    \"diagram\": \"tehmaze/diagram\",\n",
    "    \"ggpy\": \"yhat/ggpy\",\n",
    "    \"glumpy\": \"glumpy/glumpy\",\n",
    "    \"holoviews\": \"holoviz/holoviews\",\n",
    "    \"mayavi\": \"enthought/mayavi\",\n",
    "    \"matplotlib\": \"matplotlib/matplotlib\",\n",
    "    \"missingo\": \"ResidentMario/missingno\",\n",
    "    \"plotly\": \"plotly/plotly.py\",\n",
    "    \"pyqtgraph\": \"pyqtgraph/pyqtgraph\",\n",
    "    \"pyvista\": \"pyvista/pyvista\",\n",
    "    \"seaborn\": \"mwaskom/seaborn\",\n",
    "    \"toyplot\": \"sandialabs/toyplot\",\n",
    "    \"three\": \"stemkoski/three.py\",\n",
    "    \"veusz\": \"veusz/veusz\",\n",
    "    \"vispy\": \"vispy/vispy\",\n",
    "}"
   ],
   "outputs": [],
   "metadata": {
    "execution": {
     "iopub.execute_input": "2021-07-26T12:26:10.406555Z",
     "iopub.status.busy": "2021-07-26T12:26:10.405794Z",
     "iopub.status.idle": "2021-07-26T12:26:10.411821Z",
     "shell.execute_reply": "2021-07-26T12:26:10.411451Z",
     "shell.execute_reply.started": "2021-07-26T12:26:10.406481Z"
    },
    "tags": []
   }
  },
  {
   "cell_type": "code",
   "execution_count": 3,
   "source": [
    "token = \"\""
   ],
   "outputs": [],
   "metadata": {
    "execution": {
     "iopub.execute_input": "2021-07-26T12:26:12.023864Z",
     "iopub.status.busy": "2021-07-26T12:26:12.023692Z",
     "iopub.status.idle": "2021-07-26T12:26:12.026047Z",
     "shell.execute_reply": "2021-07-26T12:26:12.025540Z",
     "shell.execute_reply.started": "2021-07-26T12:26:12.023848Z"
    }
   }
  },
  {
   "cell_type": "code",
   "execution_count": 4,
   "source": [
    "gh_client = Github(token)"
   ],
   "outputs": [],
   "metadata": {
    "execution": {
     "iopub.execute_input": "2021-07-26T12:26:13.348859Z",
     "iopub.status.busy": "2021-07-26T12:26:13.348672Z",
     "iopub.status.idle": "2021-07-26T12:26:13.351047Z",
     "shell.execute_reply": "2021-07-26T12:26:13.350624Z",
     "shell.execute_reply.started": "2021-07-26T12:26:13.348845Z"
    },
    "tags": []
   }
  },
  {
   "cell_type": "code",
   "execution_count": 5,
   "source": [
    "repos_list = []"
   ],
   "outputs": [],
   "metadata": {
    "execution": {
     "iopub.execute_input": "2021-07-26T12:26:17.396188Z",
     "iopub.status.busy": "2021-07-26T12:26:17.395418Z",
     "iopub.status.idle": "2021-07-26T12:26:17.402481Z",
     "shell.execute_reply": "2021-07-26T12:26:17.400919Z",
     "shell.execute_reply.started": "2021-07-26T12:26:17.396114Z"
    }
   }
  },
  {
   "cell_type": "code",
   "execution_count": 7,
   "source": [
    "for repo_name, repo_full_name in repos_dict.items():\n",
    "    repos_list.append(\n",
    "        Repo(name=repo_name, full_name=repo_full_name, gh_client=gh_client)\n",
    "    )"
   ],
   "outputs": [],
   "metadata": {
    "execution": {
     "iopub.execute_input": "2021-07-26T12:27:40.884365Z",
     "iopub.status.busy": "2021-07-26T12:27:40.883704Z",
     "iopub.status.idle": "2021-07-26T12:27:45.374793Z",
     "shell.execute_reply": "2021-07-26T12:27:45.372647Z",
     "shell.execute_reply.started": "2021-07-26T12:27:40.884313Z"
    },
    "tags": []
   }
  },
  {
   "cell_type": "code",
   "execution_count": 12,
   "source": [
    "repos_features = pd.concat(\n",
    "    [repo.get_repo_features() for repo in repos_list]\n",
    ").reset_index()"
   ],
   "outputs": [],
   "metadata": {
    "execution": {
     "iopub.execute_input": "2021-07-26T12:32:34.021066Z",
     "iopub.status.busy": "2021-07-26T12:32:34.020821Z",
     "iopub.status.idle": "2021-07-26T12:32:43.318557Z",
     "shell.execute_reply": "2021-07-26T12:32:43.316958Z",
     "shell.execute_reply.started": "2021-07-26T12:32:34.021043Z"
    },
    "tags": []
   }
  },
  {
   "cell_type": "code",
   "execution_count": 17,
   "source": [
    "repos_contrib_features = pd.concat(\n",
    "    [repo.get_contrib_features() for repo in repos_list]\n",
    ").reset_index()"
   ],
   "outputs": [],
   "metadata": {
    "execution": {
     "iopub.execute_input": "2021-07-26T12:59:45.148399Z",
     "iopub.status.busy": "2021-07-26T12:59:45.148230Z",
     "iopub.status.idle": "2021-07-26T13:14:59.610433Z",
     "shell.execute_reply": "2021-07-26T13:14:59.608882Z",
     "shell.execute_reply.started": "2021-07-26T12:59:45.148383Z"
    },
    "tags": []
   }
  },
  {
   "cell_type": "code",
   "execution_count": 24,
   "source": [
    "repos_contrib_features.groupby(by='contrib_company', as_index=False).size().sort_values(by='size', ascending=False)"
   ],
   "outputs": [
    {
     "output_type": "execute_result",
     "data": {
      "text/plain": [
       "                        contrib_company  size\n",
       "299                              Google    13\n",
       "324                               IRESS     7\n",
       "527      University of British Columbia     6\n",
       "508                         UC Berkeley     6\n",
       "206             Brookhaven National Lab     6\n",
       "..                                  ...   ...\n",
       "209                              Busino     1\n",
       "208                 Burning Man Project     1\n",
       "207       Bugre Porter & Order of Linus     1\n",
       "205  Broad Institute of MIT and Harvard     1\n",
       "614                          Ørsted A/S     1\n",
       "\n",
       "[615 rows x 2 columns]"
      ],
      "text/html": [
       "<div>\n",
       "<style scoped>\n",
       "    .dataframe tbody tr th:only-of-type {\n",
       "        vertical-align: middle;\n",
       "    }\n",
       "\n",
       "    .dataframe tbody tr th {\n",
       "        vertical-align: top;\n",
       "    }\n",
       "\n",
       "    .dataframe thead th {\n",
       "        text-align: right;\n",
       "    }\n",
       "</style>\n",
       "<table border=\"1\" class=\"dataframe\">\n",
       "  <thead>\n",
       "    <tr style=\"text-align: right;\">\n",
       "      <th></th>\n",
       "      <th>contrib_company</th>\n",
       "      <th>size</th>\n",
       "    </tr>\n",
       "  </thead>\n",
       "  <tbody>\n",
       "    <tr>\n",
       "      <th>299</th>\n",
       "      <td>Google</td>\n",
       "      <td>13</td>\n",
       "    </tr>\n",
       "    <tr>\n",
       "      <th>324</th>\n",
       "      <td>IRESS</td>\n",
       "      <td>7</td>\n",
       "    </tr>\n",
       "    <tr>\n",
       "      <th>527</th>\n",
       "      <td>University of British Columbia</td>\n",
       "      <td>6</td>\n",
       "    </tr>\n",
       "    <tr>\n",
       "      <th>508</th>\n",
       "      <td>UC Berkeley</td>\n",
       "      <td>6</td>\n",
       "    </tr>\n",
       "    <tr>\n",
       "      <th>206</th>\n",
       "      <td>Brookhaven National Lab</td>\n",
       "      <td>6</td>\n",
       "    </tr>\n",
       "    <tr>\n",
       "      <th>...</th>\n",
       "      <td>...</td>\n",
       "      <td>...</td>\n",
       "    </tr>\n",
       "    <tr>\n",
       "      <th>209</th>\n",
       "      <td>Busino</td>\n",
       "      <td>1</td>\n",
       "    </tr>\n",
       "    <tr>\n",
       "      <th>208</th>\n",
       "      <td>Burning Man Project</td>\n",
       "      <td>1</td>\n",
       "    </tr>\n",
       "    <tr>\n",
       "      <th>207</th>\n",
       "      <td>Bugre Porter &amp; Order of Linus</td>\n",
       "      <td>1</td>\n",
       "    </tr>\n",
       "    <tr>\n",
       "      <th>205</th>\n",
       "      <td>Broad Institute of MIT and Harvard</td>\n",
       "      <td>1</td>\n",
       "    </tr>\n",
       "    <tr>\n",
       "      <th>614</th>\n",
       "      <td>Ørsted A/S</td>\n",
       "      <td>1</td>\n",
       "    </tr>\n",
       "  </tbody>\n",
       "</table>\n",
       "<p>615 rows × 2 columns</p>\n",
       "</div>"
      ]
     },
     "metadata": {},
     "execution_count": 24
    }
   ],
   "metadata": {
    "execution": {
     "iopub.execute_input": "2021-07-27T06:31:15.584674Z",
     "iopub.status.busy": "2021-07-27T06:31:15.584487Z",
     "iopub.status.idle": "2021-07-27T06:31:15.592611Z",
     "shell.execute_reply": "2021-07-27T06:31:15.592144Z",
     "shell.execute_reply.started": "2021-07-27T06:31:15.584660Z"
    },
    "tags": []
   }
  },
  {
   "cell_type": "code",
   "execution_count": null,
   "source": [],
   "outputs": [],
   "metadata": {}
  }
 ],
 "metadata": {
  "kernelspec": {
   "display_name": "Python 3.8.5 64-bit ('base': conda)",
   "language": "python",
   "name": "python38564bitbaseconda30d2eb603c69423883ed83331840dd07"
  },
  "language_info": {
   "codemirror_mode": {
    "name": "ipython",
    "version": 3
   },
   "file_extension": ".py",
   "mimetype": "text/x-python",
   "name": "python",
   "nbconvert_exporter": "python",
   "pygments_lexer": "ipython3",
   "version": "3.8.10"
  }
 },
 "nbformat": 4,
 "nbformat_minor": 5
}